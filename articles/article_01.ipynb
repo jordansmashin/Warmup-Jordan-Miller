{
  "cells": [
    {
      "cell_type": "raw",
      "metadata": {},
      "source": [
        "---\n",
        "title: \"Article 1: Chapter 2 making a chessboard \"\n",
        "---"
      ],
      "id": "580263b2"
    },
    {
      "cell_type": "markdown",
      "metadata": {},
      "source": [
        "In chapter 2 of eleoquent javascript we were asked to make a chessboard that consisted of # and empty space\n",
        "in an alternating sequence. The criteria was that you had to make an 8 x 8 grid consisting of these alternating\n",
        "symbols to construct the chessboard using newlines to go to the next set. Afterwards we were challenged to modify\n",
        "the code in order to work with any parameters for the height and width of the chessboard, even if it was uneven.\n",
        "And this is were this seemingly easy problem at first became a lot harder. The main problem being that it wasn't \n",
        "too hard to make a chessboard that followed an even number as the paramater, but odd numbers caused some issues.\n",
        "\n",
        "The exact wording of the problem was as follows:\n",
        "\n",
        "```\n",
        "Write a program that creates a string that represents an 8×8 grid, using newline characters to separate lines. At each position of the grid there is either a space or a \"#\" character. The characters should form a chessboard.\n",
        "\n",
        "Passing this string to console.log should show something like this:\n",
        "\n",
        " # # # #\n",
        "# # # # \n",
        " # # # #\n",
        "# # # # \n",
        " # # # #\n",
        "# # # # \n",
        " # # # #\n",
        "# # # #\n",
        "\n",
        "When you have a program that generates this pattern, define a binding size = 8 and change the program so that it\n",
        "works for any size, outputting a grid of the given width and height.\n",
        "```\n",
        "\n",
        "To accomplish the desired result I had to first define a height and width parameter that the user provides for the\n",
        "program. Then using nested for loops I had it check the rows and collumns to see where the chessboard was currently\n",
        "at with the main kicker being the if statement that determined whether the next element in the chessboard was to be\n",
        "a # or empty space. Finally the loop created a newline after it had reached the desired width for the line, and\n",
        "continued until it reached the desired height.\n",
        "\n",
        "My code was as follows:\n",
        "\n",
        "\n",
        "```{js}\n",
        "const height = 8;\n",
        "const width = 8;\n",
        "let chessboard = '';\n",
        "\n",
        "for (let row = 0; row < height; row++) {\n",
        "  for (let col = 0; col < width; col++) {\n",
        "    if ((row + col) % 2 === 0) {\n",
        "      chessboard += ' ';\n",
        "    } else {\n",
        "      chessboard += '#';\n",
        "    }\n",
        "  }\n",
        "  chessboard += '\\n';\n",
        "}\n",
        "\n",
        "console.log(chessboard);\n",
        "```\n",
        "\n",
        "\n",
        "This solution took a lot of AI assistance when it came to trying to make my program run with odd and even\n",
        "parameters. Mainly the newline part of the code was where I got stuck on, but after some coaching I managed to get\n",
        "a solution that fit my purposes."
      ],
      "id": "c98adf92"
    }
  ],
  "metadata": {
    "kernelspec": {
      "name": "python3",
      "language": "python",
      "display_name": "Python 3 (ipykernel)"
    }
  },
  "nbformat": 4,
  "nbformat_minor": 5
}