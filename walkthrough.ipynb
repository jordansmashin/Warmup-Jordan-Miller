{
  "cells": [
    {
      "cell_type": "raw",
      "metadata": {},
      "source": [
        "---\n",
        "title: \"Hello, Quarto\"\n",
        "format: html\n",
        "---"
      ],
      "id": "f2db619a"
    },
    {
      "cell_type": "markdown",
      "metadata": {},
      "source": [
        "## Markdown\n",
        "\n",
        "Markdown is an easy to read and write text format:\n",
        "\n",
        "- It's _plain text_ so works well with version control\n",
        "- It can be **rendered** into HTML, PDF, and more\n",
        "- Learn more at: <https://quarto.org/docs/authoring/>\n",
        "\n",
        "## Code Cell\n",
        "\n",
        "Here is a Python code cell:\n"
      ],
      "id": "d089ba48"
    },
    {
      "cell_type": "code",
      "metadata": {},
      "source": [
        "import os\n",
        "os.cpu_count()"
      ],
      "id": "80c2cce9",
      "execution_count": null,
      "outputs": []
    },
    {
      "cell_type": "markdown",
      "metadata": {},
      "source": [
        "## Equation\n",
        "\n",
        "Use LaTeX to write equations:\n",
        "\n",
        "$$\n",
        "\\chi' = \\sum_{i=1}^n k_i s_i^2\n",
        "$$"
      ],
      "id": "97995da6"
    }
  ],
  "metadata": {
    "kernelspec": {
      "name": "python3",
      "language": "python",
      "display_name": "Python 3 (ipykernel)"
    }
  },
  "nbformat": 4,
  "nbformat_minor": 5
}